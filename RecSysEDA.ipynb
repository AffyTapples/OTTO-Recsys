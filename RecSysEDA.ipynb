{
 "cells": [
  {
   "cell_type": "code",
   "execution_count": 1,
   "id": "cef930fa",
   "metadata": {},
   "outputs": [],
   "source": [
    "import numpy as np\n",
    "import pandas as pd\n",
    "import seaborn as sn"
   ]
  },
  {
   "cell_type": "code",
   "execution_count": 2,
   "id": "44c6b5de",
   "metadata": {},
   "outputs": [],
   "source": [
    "import plotly.graph_objects as go\n",
    "import urllib, json"
   ]
  },
  {
   "cell_type": "code",
   "execution_count": 3,
   "id": "08a0fa93",
   "metadata": {},
   "outputs": [],
   "source": [
    "import os\n",
    "from pathlib import Path\n",
    "from glob import glob\n",
    "from tqdm import tqdm"
   ]
  },
  {
   "cell_type": "code",
   "execution_count": 4,
   "id": "4104f8c5",
   "metadata": {},
   "outputs": [],
   "source": [
    "#https://www.kaggle.com/competitions/otto-recommender-system/data?select=train.jsonl\n",
    "path = \"C:/Users/AdamS/Downloads/train.jsonl\"\n",
    "data_path = path"
   ]
  },
  {
   "cell_type": "code",
   "execution_count": 5,
   "id": "6e59343e",
   "metadata": {},
   "outputs": [],
   "source": [
    "#from datasets import load_dataset"
   ]
  },
  {
   "cell_type": "code",
   "execution_count": 6,
   "id": "32373621",
   "metadata": {},
   "outputs": [],
   "source": [
    "#dataset = load_dataset(\"json\", data_files= str(path))"
   ]
  },
  {
   "cell_type": "code",
   "execution_count": 7,
   "id": "49cac32d",
   "metadata": {},
   "outputs": [],
   "source": [
    "#num_lines = sum(1 for line in open(path))\n",
    "#print(f'Num. of samples in train dataset: {num_lines:,}')"
   ]
  },
  {
   "cell_type": "code",
   "execution_count": 8,
   "id": "af11a707",
   "metadata": {},
   "outputs": [],
   "source": [
    "chunksize = 10000\n",
    "chunks = pd.read_json(path, lines=True, chunksize=chunksize, orient='index')"
   ]
  },
  {
   "cell_type": "code",
   "execution_count": 9,
   "id": "499259ed",
   "metadata": {},
   "outputs": [
    {
     "name": "stdout",
     "output_type": "stream",
     "text": [
      "number of lines in train: 12_899_779\n",
      "number of chunks: 129\n"
     ]
    }
   ],
   "source": [
    "num_lines = sum(1 for line in open(data_path))\n",
    "print(f'number of lines in train: {num_lines:_}')\n",
    "\n",
    "chunksize = 100_000\n",
    "num_chunks = int(np.ceil(num_lines / 100_000))\n",
    "print(f'number of chunks: {num_chunks:_}')"
   ]
  },
  {
   "cell_type": "code",
   "execution_count": null,
   "id": "dc321114",
   "metadata": {},
   "outputs": [],
   "source": [
    "train_sessions = pd.DataFrame()\n",
    "chunks = pd.read_json(data_path, lines=True, chunksize=100_000)\n",
    "\n",
    "for e, chunk in enumerate(chunks):\n",
    "    event_dict = {\n",
    "        'session': [],\n",
    "        'aid': [],\n",
    "        'ts': [],\n",
    "        'type': [],\n",
    "    }\n",
    "    if e < 2:\n",
    "        # train_sessions = pd.concat([train_sessions, chunk])\n",
    "        for session, events in zip(chunk['session'].tolist(), chunk['events'].tolist()):\n",
    "            for event in events:\n",
    "                event_dict['session'].append(session)\n",
    "                event_dict['aid'].append(event['aid'])\n",
    "                event_dict['ts'].append(event['ts'])\n",
    "                event_dict['type'].append(event['type'])\n",
    "        chunk_session = pd.DataFrame(event_dict)\n",
    "        train_sessions = pd.concat([train_sessions, chunk_session])\n",
    "    else:\n",
    "        break\n",
    "        \n",
    "train_sessions = train_sessions.reset_index(drop=True)"
   ]
  },
  {
   "cell_type": "code",
   "execution_count": null,
   "id": "d3b29a3e",
   "metadata": {},
   "outputs": [],
   "source": [
    "train_sessions.head()"
   ]
  },
  {
   "cell_type": "code",
   "execution_count": null,
   "id": "ba325737",
   "metadata": {},
   "outputs": [],
   "source": [
    "train_sessions.groupby('session').head()"
   ]
  },
  {
   "cell_type": "code",
   "execution_count": null,
   "id": "e5c158e5",
   "metadata": {},
   "outputs": [],
   "source": [
    "train_sessions.aid.unique().size"
   ]
  },
  {
   "cell_type": "code",
   "execution_count": null,
   "id": "64cc39dd",
   "metadata": {},
   "outputs": [],
   "source": [
    "train_sessions.aid.size"
   ]
  },
  {
   "cell_type": "code",
   "execution_count": null,
   "id": "1b91c122",
   "metadata": {},
   "outputs": [],
   "source": [
    "train_sessions.type.unique()"
   ]
  },
  {
   "cell_type": "code",
   "execution_count": null,
   "id": "9b40901a",
   "metadata": {},
   "outputs": [],
   "source": [
    "orders = train_sessions[train_sessions['type'] == ('orders')]"
   ]
  },
  {
   "cell_type": "code",
   "execution_count": null,
   "id": "d0552630",
   "metadata": {},
   "outputs": [],
   "source": [
    "orders_drop = orders.drop(columns=['session', 'ts', 'type'])"
   ]
  },
  {
   "cell_type": "code",
   "execution_count": null,
   "id": "fc3e4901",
   "metadata": {},
   "outputs": [],
   "source": [
    "orders_counts2 = orders_drop.value_counts(ascending = False, normalize = False)"
   ]
  },
  {
   "cell_type": "code",
   "execution_count": null,
   "id": "205e172e",
   "metadata": {},
   "outputs": [],
   "source": [
    "orders_counts2"
   ]
  },
  {
   "cell_type": "code",
   "execution_count": null,
   "id": "3db64574",
   "metadata": {},
   "outputs": [],
   "source": [
    "orders3 = orders_counts2.to_frame()\n",
    "orders3.columns = ['orderCounts']\n",
    "orders3.head()"
   ]
  },
  {
   "cell_type": "code",
   "execution_count": null,
   "id": "5dc43aee",
   "metadata": {},
   "outputs": [],
   "source": [
    "clicks = train_sessions[train_sessions['type'] == ('clicks')]"
   ]
  },
  {
   "cell_type": "code",
   "execution_count": null,
   "id": "73e1c72b",
   "metadata": {},
   "outputs": [],
   "source": [
    "clicks_drop = clicks.drop(columns=['session', 'ts', 'type'])"
   ]
  },
  {
   "cell_type": "code",
   "execution_count": null,
   "id": "112b9838",
   "metadata": {},
   "outputs": [],
   "source": [
    "clicks_counts = clicks_drop.value_counts(ascending = False)"
   ]
  },
  {
   "cell_type": "code",
   "execution_count": null,
   "id": "9e44a446",
   "metadata": {},
   "outputs": [],
   "source": [
    "clicks_counts.head()"
   ]
  },
  {
   "cell_type": "code",
   "execution_count": null,
   "id": "8dae6b65",
   "metadata": {},
   "outputs": [],
   "source": [
    "clicks3 = clicks_counts.to_frame()\n",
    "clicks3.columns = ['clickCounts']\n",
    "clicks3.head()"
   ]
  },
  {
   "cell_type": "code",
   "execution_count": null,
   "id": "b7552e4e",
   "metadata": {},
   "outputs": [],
   "source": [
    "carts = train_sessions[train_sessions['type'] == ('carts')]"
   ]
  },
  {
   "cell_type": "code",
   "execution_count": null,
   "id": "361301d6",
   "metadata": {},
   "outputs": [],
   "source": [
    "carts_counts = carts.groupby('aid').value_counts(ascending = False)"
   ]
  },
  {
   "cell_type": "code",
   "execution_count": null,
   "id": "568a3679",
   "metadata": {},
   "outputs": [],
   "source": [
    "carts_drop = carts.drop(columns=['session', 'ts', 'type'])"
   ]
  },
  {
   "cell_type": "code",
   "execution_count": null,
   "id": "a3e87170",
   "metadata": {},
   "outputs": [],
   "source": [
    "carts_counts = carts_drop.value_counts(ascending = False)"
   ]
  },
  {
   "cell_type": "code",
   "execution_count": null,
   "id": "5b29b265",
   "metadata": {},
   "outputs": [],
   "source": [
    "carts3 = carts_counts.to_frame()\n",
    "carts3.columns = ['cartCounts']\n",
    "carts3.head()"
   ]
  },
  {
   "cell_type": "code",
   "execution_count": null,
   "id": "d0ad9f80",
   "metadata": {},
   "outputs": [],
   "source": [
    "countMerge = []"
   ]
  },
  {
   "cell_type": "code",
   "execution_count": null,
   "id": "ffae218b",
   "metadata": {},
   "outputs": [],
   "source": [
    "countMerge = clicks3.join(carts3, how='outer')"
   ]
  },
  {
   "cell_type": "code",
   "execution_count": null,
   "id": "e8f87b42",
   "metadata": {},
   "outputs": [],
   "source": [
    "countMerge = countMerge.join(orders3, how='outer')"
   ]
  },
  {
   "cell_type": "code",
   "execution_count": null,
   "id": "3ea0cf8c",
   "metadata": {},
   "outputs": [],
   "source": [
    "countMerge.head()"
   ]
  },
  {
   "cell_type": "code",
   "execution_count": null,
   "id": "f404e3b2",
   "metadata": {},
   "outputs": [],
   "source": [
    "countMerge.sort_values('clickCounts', ascending = False).head()"
   ]
  },
  {
   "cell_type": "code",
   "execution_count": null,
   "id": "e06d65e1",
   "metadata": {},
   "outputs": [],
   "source": [
    "countMerge.sort_values('orderCounts', ascending = False).head()"
   ]
  },
  {
   "cell_type": "code",
   "execution_count": null,
   "id": "96c71750",
   "metadata": {},
   "outputs": [],
   "source": [
    "countMerge.sort_values('orderCounts', ascending = False).head()"
   ]
  },
  {
   "cell_type": "code",
   "execution_count": null,
   "id": "771b576f",
   "metadata": {},
   "outputs": [],
   "source": [
    "countMerge = countMerge.fillna(0)"
   ]
  },
  {
   "cell_type": "code",
   "execution_count": null,
   "id": "1916d6c8",
   "metadata": {
    "scrolled": true
   },
   "outputs": [],
   "source": [
    "countMerge.describe()"
   ]
  },
  {
   "cell_type": "code",
   "execution_count": null,
   "id": "051dbc13",
   "metadata": {},
   "outputs": [],
   "source": [
    "countMerge.index.unique().size"
   ]
  },
  {
   "cell_type": "code",
   "execution_count": null,
   "id": "19ce3895",
   "metadata": {},
   "outputs": [],
   "source": [
    "countMerge.sum()"
   ]
  },
  {
   "cell_type": "code",
   "execution_count": null,
   "id": "d6b7b2af",
   "metadata": {},
   "outputs": [],
   "source": [
    "\n",
    "fig = go.Figure(data=[go.Sankey(\n",
    "    node = dict(\n",
    "      pad = 15,\n",
    "      thickness = 20,\n",
    "      line = dict(color = \"black\", width = 0.5),\n",
    "      label = ['Clicked','Carted','Ordered', 'Not Purchased'],\n",
    "      color = \"green\"\n",
    "    ),\n",
    "    link = dict(\n",
    "      source = [0,0,1,1], # indices correspond to labels, eg A1, A2, A1, B1, ...\n",
    "      target = [1,3,2,3],\n",
    "      value = [countMerge.cartCounts.sum(), countMerge.clickCounts.sum() - countMerge.cartCounts.sum(), countMerge.orderCounts.sum(), countMerge.cartCounts.sum() - countMerge.orderCounts.sum()]\n",
    "  ))])\n",
    "\n",
    "fig.update_layout(title_text=\"Progression from Click to Order\", font_size=10)\n",
    "\n",
    "fig.show()"
   ]
  },
  {
   "cell_type": "code",
   "execution_count": null,
   "id": "f7dff457",
   "metadata": {},
   "outputs": [],
   "source": [
    "df = train_sessions\n",
    "df.head()"
   ]
  },
  {
   "cell_type": "code",
   "execution_count": null,
   "id": "f0984108",
   "metadata": {},
   "outputs": [],
   "source": [
    "df2 = df\n",
    "df2['clickCount'] = df2.type\n",
    "df2['cartCount'] = df2.type\n",
    "df2['orderCount'] = df2.type\n",
    "df2['clickCount'].values[:] = 0\n",
    "df2['cartCount'].values[:] = 0\n",
    "df2['orderCount'].values[:] = 0\n",
    "df2.loc[df['type'] == 'clicks', 'clickCount'] = 1\n",
    "df2.loc[df['type'] == 'carts', 'cartCount'] = 1\n",
    "df2.loc[df['type'] == 'orders', 'orderCount'] = 1\n",
    "df2.sort_values('type', ascending = False).head(100)"
   ]
  }
 ],
 "metadata": {
  "kernelspec": {
   "display_name": "Python 3 (ipykernel)",
   "language": "python",
   "name": "python3"
  },
  "language_info": {
   "codemirror_mode": {
    "name": "ipython",
    "version": 3
   },
   "file_extension": ".py",
   "mimetype": "text/x-python",
   "name": "python",
   "nbconvert_exporter": "python",
   "pygments_lexer": "ipython3",
   "version": "3.9.13"
  }
 },
 "nbformat": 4,
 "nbformat_minor": 5
}
